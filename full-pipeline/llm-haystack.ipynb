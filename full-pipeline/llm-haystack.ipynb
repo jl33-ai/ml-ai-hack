from haystack.document_stores import InMemoryDocumentStore

document_store = InMemoryDocumentStore(use_bm25=True)